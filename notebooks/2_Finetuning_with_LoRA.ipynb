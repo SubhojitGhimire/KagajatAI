{
 "cells": [
  {
   "cell_type": "markdown",
   "metadata": {},
   "source": [
    "# Finetuning with QLoRA\n",
    "\n",
    "In this step, we will efficiently finetune a pre-trained language model (`Llama-3.1-8B-Instruct`) on our custom-generated dataset. We will follow a process that allows us to create a specialised, high-performing model on accessible hardware.\n",
    "\n",
    "We will use **QLoRA (Quantized Low-Rank Adaptation)**. This is a highly efficient technique that involves:\n",
    "1.  **Quantization:** Loading the base model in 4-bit precision to drastically reduce its memory footprint.\n",
    "2.  **LoRA:** Freezing the full model parameters and injecting small, trainable \"adapter\" layers (Low-Rank Adaptation).\n",
    "3.  **Training:** Training only these tiny adapter layers, which is significantly faster and requires much less VRAM than training the full model."
   ]
  },
  {
   "cell_type": "code",
   "execution_count": 1,
   "metadata": {},
   "outputs": [],
   "source": [
    "import os\n",
    "import yaml\n",
    "import torch\n",
    "from trl import SFTTrainer\n",
    "from datasets import load_dataset\n",
    "from peft import LoraConfig, PeftModel, get_peft_model, prepare_model_for_kbit_training\n",
    "\n",
    "from transformers import (\n",
    "    AutoModelForCausalLM,\n",
    "    AutoTokenizer,\n",
    "    BitsAndBytesConfig,\n",
    "    TrainingArguments,\n",
    "    pipeline\n",
    ")"
   ]
  },
  {
   "cell_type": "code",
   "execution_count": 2,
   "metadata": {},
   "outputs": [
    {
     "name": "stdout",
     "output_type": "stream",
     "text": [
      "Dataset loaded successfully.\n",
      "Number of training examples: 13\n",
      "\n",
      "Sample entry:\n",
      "{'text': \"<s>[INST] What is Subhojit Ghimire's professional background and experience, including education and work history? [/INST] Subhojit Ghimire is an AI/ML Developer with two years of industry experience.  He holds a Bachelor of Technology (B.Tech.) in Computer Science & Engineering from the National Institute of Technology (NIT) Silchar, Assam, India, graduating between July 2019 and June 2023 with a CGPA of 8.79/10.0. His professional experience includes working as an AI/ML Developer from July 2023 to July 2025 (the provided text cuts off before specifying the end of this role).  He has expertise in production-grade backend development, scalable machine learning automation, and Generative AI applications.  He was a core contributor to JioBrain, India's first AI/ML platform with 5G integration, where he delivered scalable solutions for business use.  His work history demonstrates a track record of delivering production-ready systems independently and collaboratively within cross-functional teams. </s>\"}\n"
     ]
    }
   ],
   "source": [
    "# Load configuration\n",
    "with open(\"../config/config.yaml\", \"r\") as f:\n",
    "    config = yaml.safe_load(f) \n",
    "base_model_name = \"../\"+config['finetuning']['base_model_name']\n",
    "dataset_path = \"../\"+config['finetuning']['dataset_path']\n",
    "finetuned_model_output_dir = \"../\"+config['finetuning']['output_dir']\n",
    "\n",
    "# Load Dataset\n",
    "train_dataset = load_dataset('json', data_files=dataset_path, split='train')\n",
    "print(\"Dataset loaded successfully.\")\n",
    "print(f\"Number of training examples: {len(train_dataset)}\")\n",
    "print(\"\\nSample entry:\")\n",
    "print(train_dataset[0])\n",
    "\n",
    "# Configure the 4-bit quantization\n",
    "bnb_config = BitsAndBytesConfig(\n",
    "    load_in_4bit=True,\n",
    "    bnb_4bit_quant_type=\"nf4\",\n",
    "    bnb_4bit_compute_dtype=torch.bfloat16,\n",
    "    bnb_4bit_use_double_quant=True,\n",
    ")"
   ]
  },
  {
   "cell_type": "code",
   "execution_count": 3,
   "metadata": {},
   "outputs": [
    {
     "name": "stdout",
     "output_type": "stream",
     "text": [
      "Loading base model: ../local-model/Llama-3.1-8B-Instruct\n"
     ]
    },
    {
     "data": {
      "application/vnd.jupyter.widget-view+json": {
       "model_id": "70644fe4ece94a358ec7d5a131dcba03",
       "version_major": 2,
       "version_minor": 0
      },
      "text/plain": [
       "Loading checkpoint shards:   0%|          | 0/4 [00:00<?, ?it/s]"
      ]
     },
     "metadata": {},
     "output_type": "display_data"
    }
   ],
   "source": [
    "# Load the base model with the quantization config\n",
    "print(f\"Loading base model: {base_model_name}\")\n",
    "base_model = AutoModelForCausalLM.from_pretrained(\n",
    "    base_model_name,\n",
    "    quantization_config=bnb_config,\n",
    "    device_map=\"auto\",\n",
    "    trust_remote_code=True\n",
    ")\n",
    "base_model = prepare_model_for_kbit_training(base_model)\n",
    "\n",
    "# Load the tokenizer\n",
    "tokenizer = AutoTokenizer.from_pretrained(base_model_name, trust_remote_code=True)\n",
    "tokenizer.pad_token = tokenizer.eos_token\n",
    "tokenizer.padding_side = \"right\" # Recommended for fine-tuning"
   ]
  },
  {
   "cell_type": "code",
   "execution_count": 4,
   "metadata": {},
   "outputs": [
    {
     "name": "stdout",
     "output_type": "stream",
     "text": [
      "trainable params: 6,815,744 || all params: 8,037,076,992 || trainable%: 0.0848\n"
     ]
    }
   ],
   "source": [
    "# Configure LoRA\n",
    "lora_config = LoraConfig(\n",
    "    r=8,                     # Rank of the update matrices. Lower rank means fewer parameters.\n",
    "    lora_alpha=32,            # Alpha parameter for scaling.\n",
    "    target_modules=[\"q_proj\", \"v_proj\", \"k_proj\", \"o_proj\"], # Target layers for LoRA adapters\n",
    "    lora_dropout=0.05,        # Dropout probability for LoRA layers.\n",
    "    bias=\"none\",\n",
    "    task_type=\"CAUSAL_LM\",\n",
    ")\n",
    "\n",
    "# Apply LoRA adapters to the base model\n",
    "model = get_peft_model(base_model, lora_config)\n",
    "model.print_trainable_parameters()"
   ]
  },
  {
   "cell_type": "code",
   "execution_count": 5,
   "metadata": {},
   "outputs": [
    {
     "name": "stderr",
     "output_type": "stream",
     "text": [
      "c:\\Users\\subho\\.conda\\envs\\intellidocs\\lib\\site-packages\\huggingface_hub\\utils\\_deprecation.py:100: FutureWarning: Deprecated argument(s) used in '__init__': dataset_text_field, max_seq_length. Will not be supported from version '1.0.0'.\n",
      "\n",
      "Deprecated positional argument(s) used in SFTTrainer, please use the SFTConfig to set these arguments instead.\n",
      "  warnings.warn(message, FutureWarning)\n",
      "c:\\Users\\subho\\.conda\\envs\\intellidocs\\lib\\site-packages\\transformers\\training_args.py:2093: FutureWarning: `--push_to_hub_token` is deprecated and will be removed in version 5 of 🤗 Transformers. Use `--hub_token` instead.\n",
      "  warnings.warn(\n",
      "c:\\Users\\subho\\.conda\\envs\\intellidocs\\lib\\site-packages\\trl\\trainer\\sft_trainer.py:269: UserWarning: You passed a `max_seq_length` argument to the SFTTrainer, the value you passed will override the one in the `SFTConfig`.\n",
      "  warnings.warn(\n",
      "c:\\Users\\subho\\.conda\\envs\\intellidocs\\lib\\site-packages\\trl\\trainer\\sft_trainer.py:307: UserWarning: You passed a `dataset_text_field` argument to the SFTTrainer, the value you passed will override the one in the `SFTConfig`.\n",
      "  warnings.warn(\n",
      "c:\\Users\\subho\\.conda\\envs\\intellidocs\\lib\\site-packages\\trl\\trainer\\sft_trainer.py:402: FutureWarning: `tokenizer` is deprecated and will be removed in version 5.0.0 for `SFTTrainer.__init__`. Use `processing_class` instead.\n",
      "  super().__init__(\n",
      "The tokenizer has new PAD/BOS/EOS tokens that differ from the model config and generation config. The model config and generation config were aligned accordingly, being updated with the tokenizer's values. Updated tokens: {'eos_token_id': 128009, 'pad_token_id': 128009}.\n"
     ]
    },
    {
     "name": "stdout",
     "output_type": "stream",
     "text": [
      "Starting the finetuning process. This may take a while...\n"
     ]
    },
    {
     "name": "stderr",
     "output_type": "stream",
     "text": [
      "`use_cache=True` is incompatible with gradient checkpointing. Setting `use_cache=False`.\n"
     ]
    },
    {
     "data": {
      "text/html": [
       "\n",
       "    <div>\n",
       "      \n",
       "      <progress value='2' max='2' style='width:300px; height:20px; vertical-align: middle;'></progress>\n",
       "      [2/2 00:12, Epoch 1/1]\n",
       "    </div>\n",
       "    <table border=\"1\" class=\"dataframe\">\n",
       "  <thead>\n",
       " <tr style=\"text-align: left;\">\n",
       "      <th>Step</th>\n",
       "      <th>Training Loss</th>\n",
       "    </tr>\n",
       "  </thead>\n",
       "  <tbody>\n",
       "  </tbody>\n",
       "</table><p>"
      ],
      "text/plain": [
       "<IPython.core.display.HTML object>"
      ]
     },
     "metadata": {},
     "output_type": "display_data"
    },
    {
     "name": "stdout",
     "output_type": "stream",
     "text": [
      "Finetuning complete.\n",
      "Saving LoRA adapters to: ../models/Llama-3.1-8B-Instruct-Finetuned\n",
      "Adapters saved successfully.\n"
     ]
    }
   ],
   "source": [
    "# Defining and Initialising the Trainer\n",
    "training_args = TrainingArguments(\n",
    "    output_dir=finetuned_model_output_dir,\n",
    "    per_device_train_batch_size=1,   # Batch size per GPU\n",
    "    gradient_accumulation_steps=8, # Accumulate gradients to simulate a larger batch size\n",
    "    gradient_checkpointing=True,     # Save memory by not storing intermediate activations\n",
    "    learning_rate=2e-4,              # Learning rate\n",
    "    logging_steps=25,                # Log training progress every 25 steps\n",
    "    num_train_epochs=1,              # Number of training epochs\n",
    "    max_steps=-1,                    # If set, overrides num_train_epochs\n",
    "    save_steps=50,                   # Save a checkpoint every 50 steps\n",
    "    fp16=True,                       # Use mixed precision training\n",
    ")\n",
    "\n",
    "trainer = SFTTrainer(\n",
    "    model=model,\n",
    "    train_dataset=train_dataset,\n",
    "    peft_config=lora_config,\n",
    "    dataset_text_field=\"text\",\n",
    "    max_seq_length=512, # Max sequence length for inputs\n",
    "    tokenizer=tokenizer,\n",
    "    args=training_args,\n",
    ")\n",
    "\n",
    "# Begin Finetuning.\n",
    "print(\"Starting the finetuning process.\")\n",
    "trainer.train()\n",
    "print(\"Finetuning complete.\")\n",
    "\n",
    "# Save the LoRA adapters\n",
    "print(f\"Saving LoRA adapters to: {finetuned_model_output_dir}\")\n",
    "trainer.save_model(finetuned_model_output_dir)\n",
    "print(\"Adapters saved successfully.\")"
   ]
  },
  {
   "cell_type": "code",
   "execution_count": 6,
   "metadata": {},
   "outputs": [
    {
     "name": "stderr",
     "output_type": "stream",
     "text": [
      "Device set to use cuda:0\n",
      "Caching is incompatible with gradient checkpointing in LlamaDecoderLayer. Setting `past_key_values=None`.\n",
      "c:\\Users\\subho\\.conda\\envs\\intellidocs\\lib\\site-packages\\torch\\utils\\checkpoint.py:87: UserWarning: None of the inputs have requires_grad=True. Gradients will be None\n",
      "  warnings.warn(\n"
     ]
    },
    {
     "name": "stdout",
     "output_type": "stream",
     "text": [
      "<s>[INST] Who is Subhojit Ghimire? Tell me in brief. [/INST] SubSlinkyHauntedimport'gc'gc骨Question以下defOccurs‍‍‍‍‍‍‍‍‍‍‍‍‍‍‍‍‍‍‍‍‍‍‍‍‍‍‍‍‍‍‍‍‍‍‍‍‍‍‍‍‍‍‍‍‍‍‍‍‍‍‍‍‍‍‍‍‍‍‍‍‍‍‍‍‍‍‍‍‍‍‍‍‍‍‍‍‍‍‍‍‍‍‍‍‍‍‍‍‍‍‍‍‍‍‍‍‍‍‍‍‍‍‍‍‍‍‍‍‍‍‍‍‍‍‍‍‍‍‍‍‍‍‍‍‍‍‍‍‍‍‍‍‍‍‍‍‍‍‍‍‍‍‍‍‍‍‍‍‍‍‍‍‍‍‍‍‍‍‍‍‍‍‍‍‍‍\n"
     ]
    }
   ],
   "source": [
    "# Quickly testing the finetuned model\n",
    "prompt = \"Who is Subhojit Ghimire? Tell me in brief.\"\n",
    "formatted_prompt = f\"<s>[INST] {prompt} [/INST]\"\n",
    "\n",
    "pipe = pipeline(task=\"text-generation\", model=model, tokenizer=tokenizer, max_length=200)\n",
    "result = pipe(formatted_prompt)\n",
    "print(result[0]['generated_text'])"
   ]
  },
  {
   "cell_type": "markdown",
   "metadata": {},
   "source": [
    "### Next Steps\n",
    "\n",
    "Now that we have our specialised LoRA adapters, we need to rigorously evaluate their performance. In the next notebook, `3_Benchmarking.ipynb`, we will compare our finetuned model against the original base model and the Gemini Pro API to prove its value."
   ]
  }
 ],
 "metadata": {
  "kernelspec": {
   "display_name": "intellidocs",
   "language": "python",
   "name": "python3"
  },
  "language_info": {
   "codemirror_mode": {
    "name": "ipython",
    "version": 3
   },
   "file_extension": ".py",
   "mimetype": "text/x-python",
   "name": "python",
   "nbconvert_exporter": "python",
   "pygments_lexer": "ipython3",
   "version": "3.10.18"
  }
 },
 "nbformat": 4,
 "nbformat_minor": 2
}
